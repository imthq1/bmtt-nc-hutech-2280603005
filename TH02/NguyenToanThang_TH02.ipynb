{
 "cells": [
  {
   "cell_type": "markdown",
   "metadata": {},
   "source": [
    "<div class=\"alert alert-block alert-info\"><h1>1.6.2 Bài thực hành 02: Lập trình Python cơ bản</h1></div>"
   ]
  },
  {
   "cell_type": "markdown",
   "metadata": {},
   "source": [
    "> Câu 01: Nhập họ tên và tuổi"
   ]
  },
  {
   "cell_type": "code",
   "execution_count": 1,
   "metadata": {},
   "outputs": [
    {
     "name": "stdout",
     "output_type": "stream",
     "text": [
      "Chào mừng, Thang ! Bạn 25 tuổi.\n"
     ]
    }
   ],
   "source": [
    "# Nhập tên và tuổi từ người dùng\n",
    "ten = input(\"Nhập tên của bạn: \")\n",
    "tuoi = input(\"Nhập tuổi của bạn: \")\n",
    "\n",
    "# In thông điệp chào mừng với thông tin vừa nhập\n",
    "print(\"Chào mừng,\", ten, \"! Bạn\", tuoi, \"tuổi.\")"
   ]
  },
  {
   "cell_type": "markdown",
   "metadata": {},
   "source": [
    "> Câu 02: Tính diện tích hình tròn"
   ]
  },
  {
   "cell_type": "code",
   "execution_count": 2,
   "metadata": {},
   "outputs": [
    {
     "name": "stdout",
     "output_type": "stream",
     "text": [
      "Diện tích của hình tròn là: 1256.0\n"
     ]
    }
   ],
   "source": [
    "# Nhập bán kính từ người dùng\n",
    "ban_kinh = float(input(\"Nhập bán kính của hình tròn: \"))\n",
    "\n",
    "# Tính diện tích của hình tròn\n",
    "dien_tich = 3.14 * (ban_kinh ** 2)\n",
    "\n",
    "# In diện tích của hình tròn ra màn hình\n",
    "print(\"Diện tích của hình tròn là:\", dien_tich)"
   ]
  },
  {
   "cell_type": "markdown",
   "metadata": {},
   "source": [
    "> Câu 03: Kiểm tra số chẵn"
   ]
  },
  {
   "cell_type": "code",
   "execution_count": 3,
   "metadata": {},
   "outputs": [
    {
     "name": "stdout",
     "output_type": "stream",
     "text": [
      "10 là số chẵn.\n"
     ]
    }
   ],
   "source": [
    "# Nhập số từ người dùng\n",
    "so = int(input(\"Nhập một số nguyên: \"))\n",
    "\n",
    "# Kiểm tra xem số đó có phải số chẵn hay không\n",
    "if so % 2 == 0:\n",
    "    print(so, \"là số chẵn.\")\n",
    "else:\n",
    "    print(so, \"không phải là số chẵn.\")"
   ]
  },
  {
   "cell_type": "markdown",
   "metadata": {},
   "source": [
    "> Câu 04: Tìm số chia hết cho 7 và không phải bội của 5"
   ]
  },
  {
   "cell_type": "code",
   "execution_count": 4,
   "metadata": {},
   "outputs": [
    {
     "name": "stdout",
     "output_type": "stream",
     "text": [
      "2002,2009,2016,2023,2037,2044,2051,2058,2072,2079,2086,2093,2107,2114,2121,2128,2142,2149,2156,2163,2177,2184,2191,2198,2212,2219,2226,2233,2247,2254,2261,2268,2282,2289,2296,2303,2317,2324,2331,2338,2352,2359,2366,2373,2387,2394,2401,2408,2422,2429,2436,2443,2457,2464,2471,2478,2492,2499,2506,2513,2527,2534,2541,2548,2562,2569,2576,2583,2597,2604,2611,2618,2632,2639,2646,2653,2667,2674,2681,2688,2702,2709,2716,2723,2737,2744,2751,2758,2772,2779,2786,2793,2807,2814,2821,2828,2842,2849,2856,2863,2877,2884,2891,2898,2912,2919,2926,2933,2947,2954,2961,2968,2982,2989,2996,3003,3017,3024,3031,3038,3052,3059,3066,3073,3087,3094,3101,3108,3122,3129,3136,3143,3157,3164,3171,3178,3192,3199\n"
     ]
    }
   ],
   "source": [
    "# Tạo một danh sách rỗng để lưu kết quả\n",
    "j = []\n",
    "\n",
    "# Duyệt qua tất cả các số trong đoạn từ 2000 đến 3200, kiểm tra xem\n",
    "# số có chia hết cho 7 và không phải là bội số của 5 không\n",
    "for i in range(2000, 3201):\n",
    "    if (i % 7 == 0) and (i % 5 != 0):\n",
    "        j.append(str(i))\n",
    "\n",
    "print(','.join(j))"
   ]
  },
  {
   "cell_type": "markdown",
   "metadata": {},
   "source": [
    "> Câu 05: Tính tiền thực nhận của nhân viên"
   ]
  },
  {
   "cell_type": "code",
   "execution_count": 5,
   "metadata": {},
   "outputs": [
    {
     "name": "stdout",
     "output_type": "stream",
     "text": [
      "Số tiền thực lĩnh của nhân viên: 5650.0\n"
     ]
    }
   ],
   "source": [
    "so_gio_lam = float(input(\"Nhập số giờ làm mỗi tuần: \"))\n",
    "luong_gio = float(input(\"Nhập thù lao trên mỗi giờ làm tiêu chuẩn: \"))\n",
    "\n",
    "gio_tieu_chuan = 44 # Số giờ làm chuẩn mỗi tuần\n",
    "gio_vuot_chuan = max(0, so_gio_lam - gio_tieu_chuan) # Số giờ làm vượt chuẩn mỗi tuần\n",
    "\n",
    "thuc_linh = gio_tieu_chuan * luong_gio + gio_vuot_chuan * luong_gio * 1.5 # Tính tổng thu nhập\n",
    "\n",
    "print(f\"Số tiền thực lĩnh của nhân viên: {thuc_linh}\")"
   ]
  },
  {
   "cell_type": "markdown",
   "metadata": {},
   "source": [
    "> Câu 06: Tạo mảng hai chiều i*j"
   ]
  },
  {
   "cell_type": "code",
   "execution_count": 7,
   "metadata": {},
   "outputs": [
    {
     "name": "stdout",
     "output_type": "stream",
     "text": [
      "[[0, 0, 0, 0, 0], [0, 1, 2, 3, 4]]\n"
     ]
    }
   ],
   "source": [
    "input_str = input(\"Nhập X, Y: \")\n",
    "dimensions=[int(x) for x in input_str.split(',')]\n",
    "\n",
    "rowNum=dimensions[0]\n",
    "colNum=dimensions[1]\n",
    "\n",
    "multilist = [[0 for col in range(colNum)] for row in range(rowNum)]\n",
    "\n",
    "for row in range(rowNum):\n",
    "    for col in range(colNum):\n",
    "        multilist[row][col]= row * col\n",
    "\n",
    "print (multilist)"
   ]
  },
  {
   "cell_type": "markdown",
   "metadata": {},
   "source": [
    "> Câu 07: Chuyển đổi dòng sang chữ hoa"
   ]
  },
  {
   "cell_type": "code",
   "execution_count": 9,
   "metadata": {},
   "outputs": [
    {
     "name": "stdout",
     "output_type": "stream",
     "text": [
      "Nhập các dòng văn bản (Nhập 'done' để kết thúc):\n",
      "\n",
      "Các dòng đã nhập sau khi chuyển thành chữ in hoa:\n",
      "MỘT HAI BA\n",
      "MỘT HAI BA\n"
     ]
    }
   ],
   "source": [
    "# Nhập các dòng từ người dùng\n",
    "print(\"Nhập các dòng văn bản (Nhập 'done' để kết thúc):\")\n",
    "lines = []\n",
    "while True:\n",
    "    line = input()\n",
    "    if line.lower() == 'done':\n",
    "        break\n",
    "    lines.append(line)\n",
    "\n",
    "# Chuyển các dòng thành chữ in hoa và in ra màn hình\n",
    "print(\"\\nCác dòng đã nhập sau khi chuyển thành chữ in hoa:\")\n",
    "for line in lines:\n",
    "    print(line.upper())"
   ]
  },
  {
   "cell_type": "markdown",
   "metadata": {},
   "source": [
    "> Câu 08: Kiểm tra số nhị phân chia hết cho 5"
   ]
  },
  {
   "cell_type": "code",
   "execution_count": 14,
   "metadata": {},
   "outputs": [
    {
     "name": "stdout",
     "output_type": "stream",
     "text": [
      "Các số nhị phân chia hết cho 5 là:  1010\n"
     ]
    }
   ],
   "source": [
    "# Hàm kiểm tra số nhị phân có chia hết cho 5 không\n",
    "def chia_het_cho_5(so_nhi_phan):\n",
    "    # Chuyển số nhị phân sang số thập phân\n",
    "    so_thap_phan = int(so_nhi_phan, 2)\n",
    "    # Kiểm tra xem số thập phân có chia hết cho 5 không\n",
    "    if so_thap_phan % 5 == 0:\n",
    "        return True\n",
    "    else:\n",
    "        return False\n",
    "\n",
    "# Nhập chuỗi số nhị phân từ người dùng\n",
    "chuoi_so_nhi_phan = input(\"Nhập chuỗi số nhị phân (phân tách bởi dấu phẩy): \")\n",
    "\n",
    "# Tách chuỗi thành các số nhị phân và kiểm tra số chia hết cho 5\n",
    "so_nhi_phan_list = chuoi_so_nhi_phan.split(',')\n",
    "so_chia_het_cho_5 = [so for so in so_nhi_phan_list if chia_het_cho_5(so)]\n",
    "\n",
    "# In ra các số nhị phân chia hết cho 5\n",
    "if len(so_chia_het_cho_5) > 0:\n",
    "    ket_qua = ','.join(so_chia_het_cho_5)\n",
    "    print(\"Các số nhị phân chia hết cho 5 là:\", ket_qua)\n",
    "else:\n",
    "    print(\"Không có số nhị phân nào chia hết cho 5 trong chuỗi đã nhập.\")"
   ]
  },
  {
   "cell_type": "markdown",
   "metadata": {},
   "source": [
    "> Câu 09: Kiểm tra số nguyên tố"
   ]
  },
  {
   "cell_type": "code",
   "execution_count": 15,
   "metadata": {},
   "outputs": [
    {
     "name": "stdout",
     "output_type": "stream",
     "text": [
      "8 không phải là số nguyên tố.\n"
     ]
    }
   ],
   "source": [
    "def kiem_tra_so_nguyen_to(n):\n",
    "    if n <= 1:\n",
    "        return False\n",
    "    for i in range(2, int(n**0.5) + 1):\n",
    "        if n % i == 0:\n",
    "            return False\n",
    "    return True\n",
    "\n",
    "# Kiểm tra số nguyên tố và in kết quả\n",
    "number = int(input(\"Nhập vào số cần kiểm tra: \"))\n",
    "if kiem_tra_so_nguyen_to(number):\n",
    "    print(number, \"là số nguyên tố.\")\n",
    "else:\n",
    "    print(number, \"không phải là số nguyên tố.\")"
   ]
  },
  {
   "cell_type": "markdown",
   "metadata": {},
   "source": [
    "> Câu 10: Đảo ngược chuỗi"
   ]
  },
  {
   "cell_type": "code",
   "execution_count": 16,
   "metadata": {},
   "outputs": [
    {
     "name": "stdout",
     "output_type": "stream",
     "text": [
      "Chuỗi đảo ngược là: hcetuH\n"
     ]
    }
   ],
   "source": [
    "def dao_nguoc_chuoi(chuoi):\n",
    "    return chuoi[::-1]\n",
    "\n",
    "# Sử dụng hàm và in kết quả\n",
    "input_string = input(\"Mời nhập chuỗi cần đảo ngược: \")\n",
    "print(\"Chuỗi đảo ngược là:\", dao_nguoc_chuoi(input_string))"
   ]
  }
 ],
 "metadata": {
  "kernelspec": {
   "display_name": "Python 3",
   "language": "python",
   "name": "python3"
  },
  "language_info": {
   "codemirror_mode": {
    "name": "ipython",
    "version": 3
   },
   "file_extension": ".py",
   "mimetype": "text/x-python",
   "name": "python",
   "nbconvert_exporter": "python",
   "pygments_lexer": "ipython3",
   "version": "3.10.11"
  }
 },
 "nbformat": 4,
 "nbformat_minor": 2
}
